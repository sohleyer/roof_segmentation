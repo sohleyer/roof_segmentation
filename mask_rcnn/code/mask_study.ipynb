{
 "cells": [
  {
   "cell_type": "markdown",
   "metadata": {},
   "source": [
    "# Mask R-CNN - Mask study\n",
    "\n",
    "<i> Sébastien Ohleyer </i>\n",
    "\n",
    "Inspect and visualize data loading and pre-processing code. \n",
    "\n",
    "Python 3"
   ]
  },
  {
   "cell_type": "code",
   "execution_count": null,
   "metadata": {
    "collapsed": true
   },
   "outputs": [],
   "source": [
    "import os\n",
    "import sys\n",
    "import itertools\n",
    "import math\n",
    "import logging\n",
    "import json\n",
    "import re\n",
    "import random\n",
    "from collections import OrderedDict\n",
    "import numpy as np\n",
    "import matplotlib\n",
    "import matplotlib.pyplot as plt\n",
    "import matplotlib.patches as patches\n",
    "import matplotlib.lines as lines\n",
    "from matplotlib.patches import Polygon\n",
    "\n",
    "import utils\n",
    "import visualize\n",
    "from visualize import display_images\n",
    "import model as modellib\n",
    "from model import log\n",
    "\n",
    "%matplotlib inline \n",
    "\n",
    "ROOT_DIR = os.getcwd()"
   ]
  },
  {
   "cell_type": "code",
   "execution_count": null,
   "metadata": {},
   "outputs": [],
   "source": [
    "ROOT_DIR"
   ]
  },
  {
   "cell_type": "markdown",
   "metadata": {},
   "source": [
    "## Configurations"
   ]
  },
  {
   "cell_type": "code",
   "execution_count": null,
   "metadata": {
    "collapsed": true
   },
   "outputs": [],
   "source": [
    "import aerial\n",
    "config = aerial.AerialConfig()\n",
    "AERIAL_DIR = \"../AerialImageDataset/\"  # TODO: enter value here\n",
    "TOWN_LIST = [\"austin\", \"chicago\", \"kitsap\", \"tyrol-w\", \"vienna\"]"
   ]
  },
  {
   "cell_type": "markdown",
   "metadata": {},
   "source": [
    "## Dataset"
   ]
  },
  {
   "cell_type": "code",
   "execution_count": null,
   "metadata": {},
   "outputs": [],
   "source": [
    "# Load dataset\n",
    "dataset = aerial.AerialDataset()\n",
    "dataset.load_aerial(AERIAL_DIR, \"train\")\n",
    "dataset.prepare()\n",
    "\n",
    "print(\"Image Count: {}\".format(len(dataset.image_ids)))\n",
    "print(\"Class Info: {}\".format(dataset.class_info))"
   ]
  },
  {
   "cell_type": "code",
   "execution_count": null,
   "metadata": {
    "collapsed": true
   },
   "outputs": [],
   "source": [
    "#dataset.image_ids"
   ]
  },
  {
   "cell_type": "code",
   "execution_count": null,
   "metadata": {
    "collapsed": true
   },
   "outputs": [],
   "source": [
    "#Load a test image\n",
    "image_test_id = np.random.choice(dataset.image_ids)\n",
    "image_test_name = dataset.image_info[image_test_id]['image_name']\n",
    "image = dataset.load_image(image_test_id)\n",
    "_, class_ids, full_mask = dataset.load_mask(image_test_id)"
   ]
  },
  {
   "cell_type": "code",
   "execution_count": null,
   "metadata": {},
   "outputs": [],
   "source": [
    "import imageio\n",
    "\n",
    "plt.figure(figsize=(10,10))\n",
    "plt.imshow( image )\n",
    "plt.axis('off')\n",
    "plt.title(image_test_name + ' | image', fontsize=20)\n",
    "plt.show\n",
    "\n",
    "plt.figure(figsize=(10,10))\n",
    "plt.imshow( full_mask )\n",
    "plt.axis('off')\n",
    "plt.title(image_test_name + ' | full mask', fontsize=20)\n",
    "plt.show"
   ]
  },
  {
   "cell_type": "code",
   "execution_count": null,
   "metadata": {
    "collapsed": true,
    "scrolled": true
   },
   "outputs": [],
   "source": [
    "#Check the image sizes\n",
    "#images_sizes=[]\n",
    "#for image_id in dataset.image_ids:\n",
    "#    images_sizes.append(dataset.load_image(image_id).shape)\n",
    "#images_sizes\n",
    "\n",
    "# checked (5000, 5000, 3)"
   ]
  },
  {
   "cell_type": "code",
   "execution_count": null,
   "metadata": {
    "collapsed": true
   },
   "outputs": [],
   "source": [
    "#Check the mask sizes\n",
    "#masks_sizes=[]\n",
    "#for image_id in dataset.image_ids:\n",
    "#    masks_sizes.append(dataset.load_mask(image_id).shape)\n",
    "#masks_sizes\n",
    "\n",
    "# checked (5000, 5000) taking values in {0,255}"
   ]
  },
  {
   "cell_type": "code",
   "execution_count": null,
   "metadata": {
    "collapsed": true
   },
   "outputs": [],
   "source": []
  },
  {
   "cell_type": "markdown",
   "metadata": {},
   "source": [
    "## Mask study\n",
    "Before eventually study bounding box, we performe a little study on every instance of the mask, to see if it is relevant to try Mask R-CNN."
   ]
  },
  {
   "cell_type": "code",
   "execution_count": null,
   "metadata": {},
   "outputs": [],
   "source": [
    "from skimage.measure import label,regionprops\n",
    "(instance_labels, num_instances) = label(full_mask, return_num =1, connectivity=2)\n",
    "props = regionprops(instance_labels)\n",
    "print('number of instance of the test image : ' + str(num_instances))"
   ]
  },
  {
   "cell_type": "code",
   "execution_count": null,
   "metadata": {},
   "outputs": [],
   "source": [
    "areas = np.array([props[i].area for i in range(num_instances)])\n",
    "areas.argsort()[-3:][::-1]+1"
   ]
  },
  {
   "cell_type": "markdown",
   "metadata": {},
   "source": [
    "**Instance of maximum size**\n",
    "\n",
    "Note that $\\texttt{label}=\\{1,...,\\texttt{num_instance}\\}$ and $\\texttt{props}=\\{0,...,\\texttt{num_instance}-1\\}$."
   ]
  },
  {
   "cell_type": "code",
   "execution_count": null,
   "metadata": {},
   "outputs": [],
   "source": [
    "instance_label = np.argmax([props[i].area for i in range(num_instances)])+1\n",
    "plt.figure(figsize=(10,10))\n",
    "plt.imshow( instance_labels==instance_label )\n",
    "plt.axis('off')\n",
    "plt.title(image_test_name +' | [label:' + str(instance_label) + '; area:'+ str(props[instance_label-1].area)+ ']', fontsize=20)\n",
    "plt.show"
   ]
  },
  {
   "cell_type": "code",
   "execution_count": null,
   "metadata": {
    "collapsed": true
   },
   "outputs": [],
   "source": []
  },
  {
   "cell_type": "markdown",
   "metadata": {
    "collapsed": true
   },
   "source": [
    "**Histogram of area sizes**"
   ]
  },
  {
   "cell_type": "code",
   "execution_count": null,
   "metadata": {
    "collapsed": true
   },
   "outputs": [],
   "source": [
    "list_instance_sizes = [props[i].area for i in range(num_instances)]"
   ]
  },
  {
   "cell_type": "code",
   "execution_count": null,
   "metadata": {},
   "outputs": [],
   "source": [
    "area_lim = 10000000000\n",
    "plt.figure(figsize=(30,10)); \n",
    "plt.hist([instance_size for instance_size in list_instance_sizes if instance_size<=area_lim], bins=40); \n",
    "plt.title('Histogram of area sizes', fontsize=30); plt.show()"
   ]
  },
  {
   "cell_type": "markdown",
   "metadata": {},
   "source": [
    "**Plot the deleted mask**"
   ]
  },
  {
   "cell_type": "code",
   "execution_count": null,
   "metadata": {
    "collapsed": true
   },
   "outputs": [],
   "source": [
    "#area_lim_mask = 1000\n",
    "#delete_mask = np.zeros(full_mask.shape); j=0\n",
    "#for i in range(num_instance):\n",
    "#    if props[i].area < area_lim_mask:\n",
    "#        delete_mask += (instance_labels==(i+1)) "
   ]
  },
  {
   "cell_type": "code",
   "execution_count": null,
   "metadata": {
    "collapsed": true
   },
   "outputs": [],
   "source": [
    "#plt.figure(figsize=(10,10))\n",
    "#plt.imshow( delete_mask ); plt.axis('off')\n",
    "#plt.title(image_test_name +' | deleted_mask [area_lim_mask: '+str(area_lim_mask) +']', fontsize=20); plt.show"
   ]
  },
  {
   "cell_type": "code",
   "execution_count": null,
   "metadata": {},
   "outputs": [],
   "source": []
  },
  {
   "cell_type": "markdown",
   "metadata": {},
   "source": []
  },
  {
   "cell_type": "code",
   "execution_count": null,
   "metadata": {
    "collapsed": true
   },
   "outputs": [],
   "source": []
  },
  {
   "cell_type": "code",
   "execution_count": null,
   "metadata": {
    "collapsed": true
   },
   "outputs": [],
   "source": []
  },
  {
   "cell_type": "code",
   "execution_count": null,
   "metadata": {
    "collapsed": true
   },
   "outputs": [],
   "source": []
  },
  {
   "cell_type": "code",
   "execution_count": null,
   "metadata": {
    "collapsed": true
   },
   "outputs": [],
   "source": []
  },
  {
   "cell_type": "code",
   "execution_count": null,
   "metadata": {
    "collapsed": true
   },
   "outputs": [],
   "source": []
  },
  {
   "cell_type": "code",
   "execution_count": null,
   "metadata": {
    "collapsed": true
   },
   "outputs": [],
   "source": []
  }
 ],
 "metadata": {
  "kernelspec": {
   "display_name": "Python [conda env:objreco_namr]",
   "language": "python",
   "name": "conda-env-objreco_namr-py"
  },
  "language_info": {
   "codemirror_mode": {
    "name": "ipython",
    "version": 3
   },
   "file_extension": ".py",
   "mimetype": "text/x-python",
   "name": "python",
   "nbconvert_exporter": "python",
   "pygments_lexer": "ipython3",
   "version": "3.6.3"
  }
 },
 "nbformat": 4,
 "nbformat_minor": 2
}
