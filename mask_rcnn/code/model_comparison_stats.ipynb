{
 "cells": [
  {
   "cell_type": "markdown",
   "metadata": {},
   "source": [
    "# Mask R-CNN - Stats comparison on Inria Aerial Dataset\n",
    "\n",
    "<i> Sébastien Ohleyer </i>\n",
    "\n",
    "Comparing FCN, MLP and Mask R-CNN.\n",
    "\n",
    "Python 3"
   ]
  },
  {
   "cell_type": "code",
   "execution_count": null,
   "metadata": {
    "scrolled": true
   },
   "outputs": [],
   "source": [
    "import os\n",
    "import sys\n",
    "import random\n",
    "import math\n",
    "import re\n",
    "import time\n",
    "import numpy as np\n",
    "import matplotlib\n",
    "import matplotlib.pyplot as plt\n",
    "import matplotlib.patches as patches\n",
    "from scipy.misc import imsave\n",
    "import imageio\n",
    "import csv\n",
    "import pandas as pd\n",
    "from compute_stats import compute_iou,compute_accuracy\n",
    "import plotly.plotly as py\n",
    "import plotly.graph_objs as go\n",
    "import plotly\n",
    "plotly.offline.init_notebook_mode(connected=True)\n",
    "\n",
    "%matplotlib inline \n",
    "\n",
    "# Root directory of the project\n",
    "ROOT_DIR = os.getcwd()\n",
    "\n",
    "# Directory to save logs and trained model\n",
    "MODEL_DIR = os.path.join(ROOT_DIR, \"logs\")\n",
    "\n",
    "# Directory of Aerial dataset\n",
    "AERIAL_DIR = \"/Users/sebastienohleyer/Documents/ENS MVA/Object recognition/AerialImageDataset/\""
   ]
  },
  {
   "cell_type": "code",
   "execution_count": null,
   "metadata": {
    "collapsed": true,
    "scrolled": true
   },
   "outputs": [],
   "source": [
    "GT_DIR = os.path.join(AERIAL_DIR, \"train/gt\")\n",
    "FCN_OUTPUT_DIR = os.path.join(AERIAL_DIR, \"train/fcn\")\n",
    "MLP_OUTPUT_DIR = os.path.join(AERIAL_DIR, \"train/mlp\")\n",
    "MASKRCNN_OUTPUT_DIR = os.path.join(AERIAL_DIR, \"train/maskrcnn_aerial20180115T1637\")\n",
    "MASKRCNN_OUTPUT_DIR2 = os.path.join(AERIAL_DIR, \"train/maskrcnn_aerial20180116T1815\")\n",
    "\n",
    "TOWN_LIST = [\"austin\", \"chicago\", \"kitsap\", \"tyrol-w\", \"vienna\"]"
   ]
  },
  {
   "cell_type": "code",
   "execution_count": null,
   "metadata": {
    "collapsed": true
   },
   "outputs": [],
   "source": [
    "results_dict = {}\n",
    "prediction_methods = ['fcn', 'mlp', 'maskrcnn', 'maskrcnn2', 'maskrcnn3']\n",
    "for prediction_method in prediction_methods:\n",
    "    results_dict[prediction_method] = {}\n",
    "results_dict['fcn']['path'] = os.path.join(AERIAL_DIR, \"train/fcn\")\n",
    "results_dict['mlp']['path'] = os.path.join(AERIAL_DIR, \"train/mlp\")\n",
    "results_dict['maskrcnn']['path'] = os.path.join(AERIAL_DIR, \"train/maskrcnn_aerial20180115T1637\")\n",
    "results_dict['maskrcnn2']['path'] = os.path.join(AERIAL_DIR, \"train/maskrcnn_aerial20180116T1815\")\n",
    "results_dict['maskrcnn3']['path'] = os.path.join(AERIAL_DIR, \"train/maskrcnn_last\")\n",
    "\n",
    "\n",
    "results_dict['fcn']['color'] = 'rgb(44, 160, 101)'\n",
    "results_dict['mlp']['color'] = 'rgb(93, 164, 214)'\n",
    "results_dict['maskrcnn']['color'] = 'rgb(255, 65, 54)'\n",
    "results_dict['maskrcnn2']['color'] = 'rgb(255, 65, 54)'\n",
    "results_dict['maskrcnn3']['color'] = 'rgb(255, 65, 54)'"
   ]
  },
  {
   "cell_type": "markdown",
   "metadata": {},
   "source": [
    "# 1. Image by image\n",
    "\n",
    "### Init csv file"
   ]
  },
  {
   "cell_type": "code",
   "execution_count": null,
   "metadata": {
    "collapsed": true,
    "scrolled": true
   },
   "outputs": [],
   "source": [
    "writing = False\n",
    "\n",
    "if writing:\n",
    "    header = [\"method\"]\n",
    "    for town in TOWN_LIST:\n",
    "        for i in range(1,37):\n",
    "            image_name = town+str(i)\n",
    "            header.append(image_name)\n",
    "\n",
    "    with open('results.csv', 'w') as csvfile:\n",
    "        spamwriter = csv.writer(csvfile, delimiter=',')\n",
    "        spamwriter.writerow(header)"
   ]
  },
  {
   "cell_type": "code",
   "execution_count": null,
   "metadata": {
    "collapsed": true
   },
   "outputs": [],
   "source": []
  },
  {
   "cell_type": "markdown",
   "metadata": {},
   "source": [
    "### Write csv"
   ]
  },
  {
   "cell_type": "code",
   "execution_count": null,
   "metadata": {
    "collapsed": true,
    "scrolled": true
   },
   "outputs": [],
   "source": []
  },
  {
   "cell_type": "code",
   "execution_count": null,
   "metadata": {
    "scrolled": true
   },
   "outputs": [],
   "source": [
    "for prediction_method in prediction_methods:\n",
    "    results_dict[prediction_method][prediction_method+'_acc'] = [prediction_method+'_acc']\n",
    "    results_dict[prediction_method][prediction_method+'_iou'] = [prediction_method+'_iou']\n",
    "\n",
    "\n",
    "for town in TOWN_LIST:\n",
    "    for i in range(1,37):\n",
    "        image_name = town+str(i)+\".tif\"\n",
    "        print(image_name)\n",
    "        gt = imageio.imread(os.path.join(GT_DIR, image_name) )/255\n",
    "        \n",
    "        for prediction_method in prediction_methods:\n",
    "            if prediction_method=='fcn' or prediction_method=='mlp':\n",
    "                results_dict[prediction_method]['pred_'+prediction_method] = imageio.imread(os.path.join(results_dict[prediction_method]['path'], prediction_method+'_'+ image_name) )/255\n",
    "            else:\n",
    "                results_dict[prediction_method]['pred_'+prediction_method] = imageio.imread(os.path.join(results_dict[prediction_method]['path'], image_name) )/255\n",
    "        \n",
    "            results_dict[prediction_method][prediction_method+'_acc'].append(compute_accuracy(gt.astype(\"uint8\"), results_dict[prediction_method]['pred_'+prediction_method].astype(\"uint8\")))\n",
    "            results_dict[prediction_method][prediction_method+'_iou'].append(compute_iou(gt.astype(\"uint8\"), results_dict[prediction_method]['pred_'+prediction_method].astype(\"uint8\")))"
   ]
  },
  {
   "cell_type": "code",
   "execution_count": null,
   "metadata": {
    "collapsed": true,
    "scrolled": false
   },
   "outputs": [],
   "source": [
    "if writing: \n",
    "    with open('results.csv', 'a') as csvfile:\n",
    "        spamwriter = csv.writer(csvfile, delimiter=',')\n",
    "        for prediction_method in prediction_methods: \n",
    "            spamwriter.writerow(results_dict[prediction_method][prediction_method+'_iou'])\n",
    "            spamwriter.writerow(results_dict[prediction_method][prediction_method+'_acc'])"
   ]
  },
  {
   "cell_type": "code",
   "execution_count": null,
   "metadata": {
    "collapsed": true,
    "scrolled": true
   },
   "outputs": [],
   "source": []
  },
  {
   "cell_type": "markdown",
   "metadata": {},
   "source": [
    "### Open csv"
   ]
  },
  {
   "cell_type": "code",
   "execution_count": null,
   "metadata": {
    "scrolled": true
   },
   "outputs": [],
   "source": [
    "result_data = pd.read_csv(\"results.csv\", index_col=0)\n",
    "result_data"
   ]
  },
  {
   "cell_type": "code",
   "execution_count": null,
   "metadata": {
    "scrolled": true
   },
   "outputs": [],
   "source": [
    "np.argmax([result_data[col][\"maskrcnn_iou\"] for col in result_data.columns])"
   ]
  },
  {
   "cell_type": "code",
   "execution_count": null,
   "metadata": {},
   "outputs": [],
   "source": [
    "np.max([result_data[col][\"maskrcnn_iou\"] for col in result_data.columns])"
   ]
  },
  {
   "cell_type": "code",
   "execution_count": null,
   "metadata": {
    "scrolled": false
   },
   "outputs": [],
   "source": [
    "x = []\n",
    "for town in TOWN_LIST:\n",
    "    for i in range(1,37):\n",
    "        x.append(town)\n",
    "\n",
    "data =[]\n",
    "\n",
    "for prediction_method in ['fcn', 'mlp', 'maskrcnn']:\n",
    "    data.append({\n",
    "        'y': [result_data[col][prediction_method+\"_acc\"] for col in result_data.columns],\n",
    "        'x': x,\n",
    "        'name': prediction_method+\"_acc\",\n",
    "        'marker': {\n",
    "            'color': results_dict[prediction_method]['color'],'size':2\n",
    "        }, 'boxmean':True,\n",
    "        \"type\": \"box\", 'line': {'width':1}, 'fillcolor':'rgb(255,255,255)',\n",
    "        'legendgroup' : prediction_method\n",
    "    })\n",
    "    data.append({\n",
    "        'y': [result_data[col][prediction_method+\"_iou\"] for col in result_data.columns],\n",
    "        'x': x,\n",
    "        'name': prediction_method+\"_iou\",\n",
    "        'marker': {\n",
    "            'color': results_dict[prediction_method]['color'],'size':2\n",
    "        }, 'boxmean':True,\n",
    "        \"type\": \"box\", 'line': {'width':1}, 'fillcolor': None,\n",
    "        'legendgroup' : prediction_method \n",
    "    })\n",
    "    \n",
    "\n",
    "layout = {\n",
    "    'xaxis': {\n",
    "        'zeroline': False,\n",
    "    },'boxmode': 'group',\n",
    "    'margin':dict(l=40,r=30,b=80,t=100,\n",
    "    ),\n",
    "\n",
    "}\n",
    "fig = go.Figure(data=data, layout=layout)\n",
    "\n",
    "plotly.offline.iplot(fig, image='webp')"
   ]
  },
  {
   "cell_type": "code",
   "execution_count": null,
   "metadata": {
    "collapsed": true,
    "scrolled": true
   },
   "outputs": [],
   "source": []
  },
  {
   "cell_type": "markdown",
   "metadata": {},
   "source": [
    "# 2. Over entire towns\n",
    "\n",
    "#### Init csv file"
   ]
  },
  {
   "cell_type": "code",
   "execution_count": null,
   "metadata": {
    "collapsed": true,
    "scrolled": true
   },
   "outputs": [],
   "source": [
    "writing2 = True\n"
   ]
  },
  {
   "cell_type": "code",
   "execution_count": null,
   "metadata": {
    "collapsed": true,
    "scrolled": true
   },
   "outputs": [],
   "source": [
    "if writing2 : \n",
    "    header =['method']+TOWN_LIST+['overall']\n",
    "\n",
    "    with open('results_overall.csv', 'w') as csvfile:\n",
    "        spamwriter = csv.writer(csvfile, delimiter=',')\n",
    "        spamwriter.writerow(header)"
   ]
  },
  {
   "cell_type": "code",
   "execution_count": null,
   "metadata": {
    "collapsed": true,
    "scrolled": false
   },
   "outputs": [],
   "source": [
    "results_overall_dict = {}\n",
    "predictions_methods = ['fcn', 'mlp', 'maskrcnn', 'maskrcnn2','maskrcnn3']\n",
    "for prediction_method in predictions_methods:\n",
    "    results_overall_dict[prediction_method] = {}\n",
    "results_overall_dict['fcn']['path'] = os.path.join(AERIAL_DIR, \"train/fcn\")\n",
    "results_overall_dict['mlp']['path'] = os.path.join(AERIAL_DIR, \"train/mlp\")\n",
    "results_overall_dict['maskrcnn']['path'] = os.path.join(AERIAL_DIR, \"train/maskrcnn_aerial20180115T1637\")\n",
    "results_overall_dict['maskrcnn2']['path'] = os.path.join(AERIAL_DIR, \"train/maskrcnn_aerial20180116T1815\")\n",
    "results_overall_dict['maskrcnn3']['path'] = os.path.join(AERIAL_DIR, \"train/maskrcnn_last\")"
   ]
  },
  {
   "cell_type": "code",
   "execution_count": null,
   "metadata": {
    "scrolled": false
   },
   "outputs": [],
   "source": [
    "from numpy import count_nonzero as nnz\n",
    "\n",
    "\n",
    "for prediction_method in predictions_methods:\n",
    "    results_overall_dict[prediction_method][prediction_method+'_acc'] = [prediction_method+'_acc']\n",
    "    results_overall_dict[prediction_method][prediction_method+'_iou'] = [prediction_method+'_iou']\n",
    "    \n",
    "    results_overall_dict[prediction_method][prediction_method+'_inters_acum'] = 0\n",
    "    results_overall_dict[prediction_method][prediction_method+'_union_acum'] = 0\n",
    "    results_overall_dict[prediction_method][prediction_method+'_correct_acum'] = 0\n",
    "    results_overall_dict[prediction_method][prediction_method+'_total_acum'] = 0\n",
    "\n",
    "for town in TOWN_LIST:\n",
    "    print(town)\n",
    "    for prediction_method in predictions_methods:\n",
    "        results_overall_dict[prediction_method][prediction_method+'_inters_count'] = 0\n",
    "        results_overall_dict[prediction_method][prediction_method+'_union_count'] = 0\n",
    "        results_overall_dict[prediction_method][prediction_method+'_correct_count'] = 0\n",
    "        results_overall_dict[prediction_method][prediction_method+'_total_count'] = 0\n",
    "    \n",
    "\n",
    "    for i in range(5,37):\n",
    "        image_name = town+str(i)+\".tif\"\n",
    "        print(image_name)\n",
    "        gt = imageio.imread(os.path.join(GT_DIR, image_name) )/255\n",
    "        \n",
    "        for prediction_method in predictions_methods:\n",
    "            if prediction_method=='fcn' or prediction_method=='mlp':\n",
    "                results_overall_dict[prediction_method]['pred_'+prediction_method] = imageio.imread(os.path.join(results_overall_dict[prediction_method]['path'], prediction_method+'_'+ image_name) )/255\n",
    "            else:\n",
    "                results_overall_dict[prediction_method]['pred_'+prediction_method] = imageio.imread(os.path.join(results_overall_dict[prediction_method]['path'], image_name) )/255\n",
    "            \n",
    "            results_overall_dict[prediction_method][prediction_method+'_inters'] = gt.astype(\"uint8\") & results_overall_dict[prediction_method]['pred_'+prediction_method].astype(\"uint8\")\n",
    "            results_overall_dict[prediction_method][prediction_method+'_union'] = gt.astype(\"uint8\") | results_overall_dict[prediction_method]['pred_'+prediction_method].astype(\"uint8\")\n",
    "            results_overall_dict[prediction_method][prediction_method+'_correct'] = gt.astype(\"uint8\") == results_overall_dict[prediction_method]['pred_'+prediction_method].astype(\"uint8\")\n",
    "\n",
    "            results_overall_dict[prediction_method][prediction_method+'_inters_count'] += nnz(results_overall_dict[prediction_method][prediction_method+'_inters'])\n",
    "            results_overall_dict[prediction_method][prediction_method+'_union_count'] += nnz(results_overall_dict[prediction_method][prediction_method+'_union'])\n",
    "            results_overall_dict[prediction_method][prediction_method+'_correct_count'] += nnz(results_overall_dict[prediction_method][prediction_method+'_correct'])\n",
    "            results_overall_dict[prediction_method][prediction_method+'_total_count'] += gt.size\n",
    "            \n",
    "    for prediction_method in predictions_methods:       \n",
    "        results_overall_dict[prediction_method][prediction_method+'_inters_acum'] += results_overall_dict[prediction_method][prediction_method+'_inters_count']\n",
    "        results_overall_dict[prediction_method][prediction_method+'_union_acum'] += results_overall_dict[prediction_method][prediction_method+'_union_count']\n",
    "        results_overall_dict[prediction_method][prediction_method+'_correct_acum'] += results_overall_dict[prediction_method][prediction_method+'_correct_count']\n",
    "        results_overall_dict[prediction_method][prediction_method+'_total_acum'] += results_overall_dict[prediction_method][prediction_method+'_total_count']\n",
    "\n",
    "        results_overall_dict[prediction_method][prediction_method+'_iou'].append(results_overall_dict[prediction_method][prediction_method+'_inters_count']/float(results_overall_dict[prediction_method][prediction_method+'_union_count']))\n",
    "        results_overall_dict[prediction_method][prediction_method+'_acc'].append(results_overall_dict[prediction_method][prediction_method+'_correct_count']/float(results_overall_dict[prediction_method][prediction_method+'_total_count']))\n",
    "\n",
    "for prediction_method in predictions_methods:\n",
    "    results_overall_dict[prediction_method][prediction_method+'_iou'].append(results_overall_dict[prediction_method][prediction_method+'_inters_acum']/float(results_overall_dict[prediction_method][prediction_method+'_union_acum']))\n",
    "    results_overall_dict[prediction_method][prediction_method+'_acc'].append(results_overall_dict[prediction_method][prediction_method+'_correct_acum']/float(results_overall_dict[prediction_method][prediction_method+'_total_acum']))"
   ]
  },
  {
   "cell_type": "code",
   "execution_count": null,
   "metadata": {
    "collapsed": true,
    "scrolled": true
   },
   "outputs": [],
   "source": [
    "if writing2:\n",
    "    with open('results_overall.csv', 'a') as csvfile:\n",
    "        spamwriter = csv.writer(csvfile, delimiter=',')\n",
    "        for prediction_method in predictions_methods: \n",
    "            spamwriter.writerow(results_overall_dict[prediction_method][prediction_method+'_iou'])\n",
    "            spamwriter.writerow(results_overall_dict[prediction_method][prediction_method+'_acc'])"
   ]
  },
  {
   "cell_type": "code",
   "execution_count": null,
   "metadata": {
    "collapsed": true,
    "scrolled": true
   },
   "outputs": [],
   "source": []
  },
  {
   "cell_type": "code",
   "execution_count": null,
   "metadata": {
    "scrolled": true
   },
   "outputs": [],
   "source": []
  },
  {
   "cell_type": "code",
   "execution_count": null,
   "metadata": {
    "collapsed": true,
    "scrolled": true
   },
   "outputs": [],
   "source": []
  },
  {
   "cell_type": "code",
   "execution_count": null,
   "metadata": {
    "collapsed": true,
    "scrolled": true
   },
   "outputs": [],
   "source": []
  }
 ],
 "metadata": {
  "kernelspec": {
   "display_name": "Python [conda env:objreco_namr]",
   "language": "python",
   "name": "conda-env-objreco_namr-py"
  },
  "language_info": {
   "codemirror_mode": {
    "name": "ipython",
    "version": 3
   },
   "file_extension": ".py",
   "mimetype": "text/x-python",
   "name": "python",
   "nbconvert_exporter": "python",
   "pygments_lexer": "ipython3",
   "version": "3.6.3"
  }
 },
 "nbformat": 4,
 "nbformat_minor": 2
}
