{
 "cells": [
  {
   "cell_type": "markdown",
   "metadata": {},
   "source": [
    "# Mask R-CNN - Images comparison on Inria Aerial Dataset\n",
    "\n",
    "<i> Sébastien Ohleyer </i>\n",
    "\n",
    "Comparing FCN, MLP and Mask R-CNN.\n",
    "\n",
    "Python 3"
   ]
  },
  {
   "cell_type": "code",
   "execution_count": null,
   "metadata": {
    "collapsed": true
   },
   "outputs": [],
   "source": [
    "import os\n",
    "import sys\n",
    "import random\n",
    "import math\n",
    "import re\n",
    "import time\n",
    "import numpy as np\n",
    "import tensorflow as tf\n",
    "import matplotlib\n",
    "import matplotlib.pyplot as plt\n",
    "import matplotlib.patches as patches\n",
    "from scipy.misc import imsave\n",
    "\n",
    "import utils\n",
    "import visualize\n",
    "from visualize import display_images\n",
    "import model as modellib\n",
    "from model import log\n",
    "\n",
    "%matplotlib inline \n",
    "\n",
    "# Root directory of the project\n",
    "ROOT_DIR = os.getcwd()\n",
    "\n",
    "# Directory to save logs and trained model\n",
    "MODEL_DIR = os.path.join(ROOT_DIR, \"logs\")\n",
    "\n",
    "# Directory of Aerial dataset\n",
    "AERIAL_DIR = \"/Users/sebastienohleyer/Documents/ENS MVA/Object recognition/AerialImageDataset/\"\n",
    "\n",
    "# Directory of Aerial dataset\n",
    "AERIAL_MODEL_PATH = \"/Users/sebastienohleyer/Documents/ENS MVA/Object recognition/mask_rcnn/trained_model\""
   ]
  },
  {
   "cell_type": "markdown",
   "metadata": {},
   "source": [
    "## Configurations"
   ]
  },
  {
   "cell_type": "code",
   "execution_count": null,
   "metadata": {
    "collapsed": true
   },
   "outputs": [],
   "source": [
    "import aerial\n",
    "config = aerial.AerialConfig()\n",
    "# Override the training configurations with a few\n",
    "# changes for inferencing.\n",
    "class InferenceConfig(config.__class__):\n",
    "    # Run detection on one image at a time\n",
    "    GPU_COUNT = 1\n",
    "    IMAGES_PER_GPU = 1\n",
    "\n",
    "config = InferenceConfig()\n",
    "config.display()"
   ]
  },
  {
   "cell_type": "markdown",
   "metadata": {},
   "source": [
    "## Notebook Preferences"
   ]
  },
  {
   "cell_type": "code",
   "execution_count": null,
   "metadata": {
    "collapsed": true
   },
   "outputs": [],
   "source": [
    "# Device to load the neural network on.\n",
    "# Useful if you're training a model on the same \n",
    "# machine, in which case use CPU and leave the\n",
    "# GPU for training.\n",
    "DEVICE = \"/cpu:0\"  # /cpu:0 or /gpu:0\n",
    "\n",
    "# Inspect the model in training or inference modes\n",
    "# values: 'inference' or 'training'\n",
    "# TODO: code for 'training' test mode not ready yet\n",
    "TEST_MODE = \"inference\""
   ]
  },
  {
   "cell_type": "code",
   "execution_count": null,
   "metadata": {
    "collapsed": true
   },
   "outputs": [],
   "source": [
    "def get_ax(rows=1, cols=1, size=16):\n",
    "    \"\"\"Return a Matplotlib Axes array to be used in\n",
    "    all visualizations in the notebook. Provide a\n",
    "    central point to control graph sizes.\n",
    "    \n",
    "    Adjust the size attribute to control how big to render images\n",
    "    \"\"\"\n",
    "    _, ax = plt.subplots(rows, cols, figsize=(size*cols, size*rows))\n",
    "    return ax\n",
    "\n",
    "def find_idx(image_info,image_name):\n",
    "    for i, image in enumerate(image_info):\n",
    "        if image[\"image_name\"] == image_name:\n",
    "            return i\n",
    "            break"
   ]
  },
  {
   "cell_type": "code",
   "execution_count": null,
   "metadata": {
    "collapsed": true
   },
   "outputs": [],
   "source": [
    "SUBIMAGE_LIST=[]\n",
    "for i in range(5):\n",
    "    SUBIMAGE_LIST = SUBIMAGE_LIST + [(i,j) for j in range(5)]"
   ]
  },
  {
   "cell_type": "code",
   "execution_count": null,
   "metadata": {
    "collapsed": true
   },
   "outputs": [],
   "source": []
  },
  {
   "cell_type": "markdown",
   "metadata": {},
   "source": [
    "## Ground Truth"
   ]
  },
  {
   "cell_type": "code",
   "execution_count": null,
   "metadata": {
    "collapsed": true
   },
   "outputs": [],
   "source": [
    "# Load dataset\n",
    "TOWN_LIST = [\"chicago\"]\n",
    "\n",
    "dataset = aerial.AerialDataset()\n",
    "dataset.load_aerial(dataset_dir=AERIAL_DIR, subset=\"train\", subimage_list=SUBIMAGE_LIST, town_list=TOWN_LIST)\n",
    "dataset.prepare()\n",
    "\n",
    "print(\"Image Count: {}\".format(len(dataset.image_ids)))\n",
    "print(\"Class Info: {}\".format(dataset.class_info))"
   ]
  },
  {
   "cell_type": "code",
   "execution_count": null,
   "metadata": {
    "collapsed": true
   },
   "outputs": [],
   "source": [
    "#dataset.image_info"
   ]
  },
  {
   "cell_type": "code",
   "execution_count": null,
   "metadata": {
    "collapsed": true
   },
   "outputs": [],
   "source": [
    "#Load a test image\n",
    "#image_id = np.random.choice(dataset.image_ids)\n",
    "im_name = \"chicago5_01.tif\"\n",
    "image_idx = find_idx(dataset.image_info, im_name)\n",
    "image_name = dataset.image_info[image_idx]['image_name']\n",
    "image = dataset.load_image(image_idx)\n",
    "mask_gt, class_ids_gt = dataset.load_mask(image_idx)"
   ]
  },
  {
   "cell_type": "code",
   "execution_count": null,
   "metadata": {
    "collapsed": true
   },
   "outputs": [],
   "source": [
    "f, (ax1, ax2) = plt.subplots(1, 2, sharey=True,figsize=(20,10))\n",
    "ax1.imshow( image )\n",
    "ax1.axis('off')\n",
    "ax1.set_title(image_name + ' | image', fontsize=20)\n",
    "ax2.imshow( np.sum(mask_gt,2) )\n",
    "ax2.axis('off')\n",
    "ax2.set_title(image_name + ' | mask', fontsize=20)\n",
    "plt.show()"
   ]
  },
  {
   "cell_type": "code",
   "execution_count": null,
   "metadata": {
    "collapsed": true
   },
   "outputs": [],
   "source": [
    "# Compute Bounding box\n",
    "bbox_gt = utils.extract_bboxes(mask_gt)"
   ]
  },
  {
   "cell_type": "code",
   "execution_count": null,
   "metadata": {
    "collapsed": true
   },
   "outputs": [],
   "source": [
    "full_mask_gt = np.sum(mask_gt,2)\n",
    "print(np.unique(mask_gt))\n",
    "print(np.unique(full_mask_gt))"
   ]
  },
  {
   "cell_type": "code",
   "execution_count": null,
   "metadata": {
    "collapsed": true
   },
   "outputs": [],
   "source": [
    "# Display image and additional stats\n",
    "print(\"image_id \", image_idx, dataset.image_info[image_idx]['image_name'])\n",
    "log(\"image\", image)\n",
    "log(\"mask\", mask_gt)\n",
    "log(\"class_ids\", dataset.class_ids)\n",
    "log(\"bbox\", bbox_gt)\n",
    "# Display image and instances\n",
    "masked_image_gt = visualize.display_instances(image, bbox_gt,  mask_gt, class_ids_gt, dataset.class_names)"
   ]
  },
  {
   "cell_type": "code",
   "execution_count": null,
   "metadata": {
    "collapsed": true
   },
   "outputs": [],
   "source": []
  },
  {
   "cell_type": "markdown",
   "metadata": {},
   "source": [
    "## FCN"
   ]
  },
  {
   "cell_type": "code",
   "execution_count": null,
   "metadata": {
    "collapsed": true
   },
   "outputs": [],
   "source": [
    "# Load dataset\n",
    "dataset_fcn = aerial.AerialDataset()\n",
    "dataset_fcn.load_aerial(dataset_dir=AERIAL_DIR, subset=\"fcn\", subimage_list=SUBIMAGE_LIST, town_list=TOWN_LIST)\n",
    "dataset_fcn.prepare()\n",
    "\n",
    "print(\"Image Count: {}\".format(len(dataset_fcn.image_ids)))\n",
    "print(\"Class Info: {}\".format(dataset_fcn.class_info))"
   ]
  },
  {
   "cell_type": "code",
   "execution_count": null,
   "metadata": {
    "collapsed": true
   },
   "outputs": [],
   "source": [
    "#dataset_fcn.image_info"
   ]
  },
  {
   "cell_type": "code",
   "execution_count": null,
   "metadata": {
    "collapsed": true
   },
   "outputs": [],
   "source": [
    "#Load a test image\n",
    "image_idx = find_idx(dataset_fcn.image_info, im_name)\n",
    "image_name = dataset_fcn.image_info[image_idx]['image_name']\n",
    "image = dataset_fcn.load_image(image_idx)\n",
    "mask_fcn, class_ids_fcn = dataset_fcn.load_mask(image_idx)"
   ]
  },
  {
   "cell_type": "code",
   "execution_count": null,
   "metadata": {
    "collapsed": true
   },
   "outputs": [],
   "source": [
    "f, (ax1, ax2) = plt.subplots(1, 2, sharey=True,figsize=(20,10))\n",
    "ax1.imshow( image )\n",
    "ax1.axis('off')\n",
    "ax1.set_title(image_name + ' | image', fontsize=20)\n",
    "ax2.imshow( np.sum(mask_fcn,2) )\n",
    "ax2.axis('off')\n",
    "ax2.set_title(image_name + ' | mask', fontsize=20)\n",
    "plt.show()"
   ]
  },
  {
   "cell_type": "code",
   "execution_count": null,
   "metadata": {
    "collapsed": true
   },
   "outputs": [],
   "source": [
    "# Compute Bounding box\n",
    "bbox_fcn = utils.extract_bboxes(mask_fcn)\n",
    "# Display image and additional stats\n",
    "print(\"image_id \", image_idx, dataset_fcn.image_info[image_idx]['image_name'])\n",
    "log(\"image\", image)\n",
    "log(\"mask\", mask_fcn)\n",
    "log(\"class_ids\", dataset_fcn.class_ids)\n",
    "log(\"bbox\", bbox_fcn)\n",
    "# Display image and instances\n",
    "masked_image_fcn = visualize.display_instances(image, bbox_fcn,  mask_fcn, class_ids_fcn, dataset_fcn.class_names)"
   ]
  },
  {
   "cell_type": "code",
   "execution_count": null,
   "metadata": {
    "collapsed": true
   },
   "outputs": [],
   "source": [
    "full_mask_fcn = np.sum(mask_fcn,2)\n",
    "print(np.unique(mask_fcn))\n",
    "print(np.unique(full_mask_fcn))"
   ]
  },
  {
   "cell_type": "code",
   "execution_count": null,
   "metadata": {
    "collapsed": true
   },
   "outputs": [],
   "source": [
    "#imsave(image_name_list[0]+'_fcn'+'.jpg', masked_image_fcn)"
   ]
  },
  {
   "cell_type": "markdown",
   "metadata": {},
   "source": [
    "## MLP"
   ]
  },
  {
   "cell_type": "code",
   "execution_count": null,
   "metadata": {
    "collapsed": true
   },
   "outputs": [],
   "source": [
    "# Load dataset\n",
    "dataset_mlp = aerial.AerialDataset()\n",
    "dataset_mlp.load_aerial(dataset_dir=AERIAL_DIR, subset=\"mlp\", subimage_list=SUBIMAGE_LIST)\n",
    "dataset_mlp.prepare()\n",
    "\n",
    "print(\"Image Count: {}\".format(len(dataset_mlp.image_ids)))\n",
    "print(\"Class Info: {}\".format(dataset_mlp.class_info))"
   ]
  },
  {
   "cell_type": "code",
   "execution_count": null,
   "metadata": {
    "collapsed": true
   },
   "outputs": [],
   "source": []
  },
  {
   "cell_type": "code",
   "execution_count": null,
   "metadata": {
    "collapsed": true
   },
   "outputs": [],
   "source": [
    "#Load a test image\n",
    "image_idx = find_idx(dataset_mlp.image_info, im_name)\n",
    "image_name = dataset_mlp.image_info[image_idx]['image_name']\n",
    "image = dataset_mlp.load_image(image_idx)\n",
    "mask_mlp, class_ids_mlp = dataset_mlp.load_mask(image_idx)"
   ]
  },
  {
   "cell_type": "code",
   "execution_count": null,
   "metadata": {
    "collapsed": true
   },
   "outputs": [],
   "source": [
    "f, (ax1, ax2) = plt.subplots(1, 2, sharey=True,figsize=(20,10))\n",
    "ax1.imshow( image )\n",
    "ax1.axis('off')\n",
    "ax1.set_title(image_name + ' | image', fontsize=20)\n",
    "ax2.imshow( np.sum(mask_mlp,2) )\n",
    "ax2.axis('off')\n",
    "ax2.set_title(image_name + ' | mask', fontsize=20)\n",
    "plt.show()"
   ]
  },
  {
   "cell_type": "code",
   "execution_count": null,
   "metadata": {
    "collapsed": true
   },
   "outputs": [],
   "source": [
    "# Compute Bounding box\n",
    "bbox_mlp = utils.extract_bboxes(mask_mlp)\n",
    "# Display image and additional stats\n",
    "print(\"image_id \", image_idx, dataset_mlp.image_info[image_idx]['image_name'])\n",
    "log(\"image\", image)\n",
    "log(\"mask\", mask_mlp)\n",
    "log(\"class_ids\", dataset_mlp.class_ids)\n",
    "log(\"bbox\", bbox_mlp)\n",
    "# Display image and instances\n",
    "masked_image_mlp = visualize.display_instances(image, bbox_mlp,  mask_mlp, class_ids_mlp, dataset_mlp.class_names)"
   ]
  },
  {
   "cell_type": "code",
   "execution_count": null,
   "metadata": {
    "collapsed": true
   },
   "outputs": [],
   "source": [
    "full_mask_mlp = np.sum(mask_mlp,2)\n",
    "print(np.unique(mask_mlp))\n",
    "print(np.unique(full_mask_mlp))"
   ]
  },
  {
   "cell_type": "code",
   "execution_count": null,
   "metadata": {
    "collapsed": true
   },
   "outputs": [],
   "source": [
    "#imsave(image_name_list[0]+'_mlp'+'.jpg', masked_image_mlp)"
   ]
  },
  {
   "cell_type": "markdown",
   "metadata": {},
   "source": [
    "## Mask R-CNN\n",
    "\n",
    "#### Load model"
   ]
  },
  {
   "cell_type": "code",
   "execution_count": null,
   "metadata": {
    "collapsed": true
   },
   "outputs": [],
   "source": [
    "# Create model in inference mode\n",
    "initial_weights = '9_mask_rcnn_aerial_0040.h5'\n",
    "\n",
    "with tf.device(DEVICE):\n",
    "    model = modellib.MaskRCNN(mode=\"inference\", model_dir=MODEL_DIR, config=config)\n",
    "\n",
    "weights_path = os.path.join(AERIAL_MODEL_PATH, initial_weights)\n",
    "\n",
    "# Load weights\n",
    "print(\"Loading weights \", weights_path)\n",
    "model.load_weights(weights_path, by_name=True)"
   ]
  },
  {
   "cell_type": "markdown",
   "metadata": {},
   "source": [
    "#### Load image"
   ]
  },
  {
   "cell_type": "code",
   "execution_count": null,
   "metadata": {
    "collapsed": true
   },
   "outputs": [],
   "source": [
    "image_idx = find_idx(dataset.image_info, im_name)\n",
    "image, image_meta, gt_class_id, gt_bbox, gt_mask =\\\n",
    "    modellib.load_image_gt(dataset, config, image_idx, use_mini_mask=False)\n",
    "info = dataset.image_info[image_idx]\n",
    "print(\"image ID: {}.{} ({}) {}\".format(info[\"source\"], info[\"id\"], image_idx, \n",
    "                                       dataset.image_reference(image_idx)))"
   ]
  },
  {
   "cell_type": "markdown",
   "metadata": {},
   "source": [
    "#### Run detection"
   ]
  },
  {
   "cell_type": "code",
   "execution_count": null,
   "metadata": {
    "collapsed": true
   },
   "outputs": [],
   "source": [
    "# Run object detection\n",
    "results = model.detect([image], verbose=1)\n",
    "\n",
    "# Display results\n",
    "ax = get_ax(1)\n",
    "r = results[0]\n",
    "masked_image_maskrcnn = visualize.display_instances(image, r['rois'], r['masks'], r['class_ids'], dataset.class_names, r['scores'], ax=ax,\n",
    "                            title=\"Predictions\")\n",
    "log(\"gt_class_id\", gt_class_id)\n",
    "log(\"gt_bbox\", gt_bbox)\n",
    "log(\"gt_mask\", gt_mask)"
   ]
  },
  {
   "cell_type": "code",
   "execution_count": null,
   "metadata": {
    "collapsed": true
   },
   "outputs": [],
   "source": []
  },
  {
   "cell_type": "code",
   "execution_count": null,
   "metadata": {
    "collapsed": true
   },
   "outputs": [],
   "source": [
    "mask_rcnn = r[\"masks\"]\n",
    "full_mask_maskrcnn = np.sum(mask_rcnn,2)\n",
    "full_mask_maskrcnn = np.where(full_mask_maskrcnn<2,full_mask_maskrcnn,1)\n",
    "print(np.unique(mask_rcnn))\n",
    "print(np.unique(full_mask_maskrcnn))"
   ]
  },
  {
   "cell_type": "code",
   "execution_count": null,
   "metadata": {
    "collapsed": true
   },
   "outputs": [],
   "source": [
    "#imsave(image_name_list[0]+'_maskrcnn'+'.jpg', masked_image_maskrcnn)"
   ]
  },
  {
   "cell_type": "markdown",
   "metadata": {},
   "source": [
    "## Comparison"
   ]
  },
  {
   "cell_type": "code",
   "execution_count": null,
   "metadata": {
    "collapsed": true
   },
   "outputs": [],
   "source": [
    "from compute_stats import compute_iou,compute_accuracy\n",
    "print(\"FCN\")\n",
    "print(\"IoU:\", compute_iou(full_mask_gt,full_mask_fcn))\n",
    "print(\"Accuracy:\", compute_accuracy(full_mask_gt,full_mask_fcn))"
   ]
  },
  {
   "cell_type": "code",
   "execution_count": null,
   "metadata": {
    "collapsed": true
   },
   "outputs": [],
   "source": [
    "print(\"MLP\")\n",
    "print(\"IoU:\", compute_iou(full_mask_gt,full_mask_mlp))\n",
    "print(\"Accuracy:\", compute_accuracy(full_mask_gt,full_mask_mlp))"
   ]
  },
  {
   "cell_type": "code",
   "execution_count": null,
   "metadata": {
    "collapsed": true
   },
   "outputs": [],
   "source": [
    "print(\"Mask-RCNN\")\n",
    "print(\"IoU:\", compute_iou(full_mask_gt,full_mask_maskrcnn))\n",
    "print(\"Accuracy:\", compute_accuracy(full_mask_gt,full_mask_maskrcnn))"
   ]
  },
  {
   "cell_type": "code",
   "execution_count": null,
   "metadata": {
    "collapsed": true
   },
   "outputs": [],
   "source": []
  },
  {
   "cell_type": "markdown",
   "metadata": {
    "collapsed": true
   },
   "source": [
    "## For LateX "
   ]
  },
  {
   "cell_type": "code",
   "execution_count": null,
   "metadata": {
    "collapsed": true
   },
   "outputs": [],
   "source": [
    "import imageio\n",
    "im_name = 'tyrol-w3.tif'\n",
    "plt_image = imageio.imread(os.path.join(AERIAL_DIR,\"train/images/\"+im_name))\n",
    "plt_gt = imageio.imread(os.path.join(AERIAL_DIR,\"train/gt/\"+im_name))/255\n",
    "plt_fcn = imageio.imread(os.path.join(AERIAL_DIR,\"train/fcn/\"+im_name))/255\n",
    "plt_mlp = imageio.imread(os.path.join(AERIAL_DIR,\"train/mlp/\"+im_name))/255\n",
    "plt_maskrcnn = imageio.imread(os.path.join(AERIAL_DIR,\"train/maskrcnn_aerial20180115T1637/\"+im_name))/255\n",
    "\n"
   ]
  },
  {
   "cell_type": "code",
   "execution_count": null,
   "metadata": {
    "collapsed": true
   },
   "outputs": [],
   "source": [
    "f, ((ax00,ax01), (ax10,ax11), (ax20,ax21), (ax30,ax31), (ax40,ax41)) = plt.subplots(5, 2,figsize=(20,50))\n",
    "ax00.imshow( plt_image.astype(np.uint8) )\n",
    "ax00.axis('off')\n",
    "ax00.set_title('image', fontsize=40)\n",
    "ax10.imshow( plt_gt.astype(np.uint8) )\n",
    "ax10.axis('off')\n",
    "ax10.set_title('ground truth', fontsize=40)\n",
    "ax20.imshow( plt_fcn.astype(np.uint8) )\n",
    "ax20.axis('off')\n",
    "ax20.set_title('fcn', fontsize=40)\n",
    "ax30.imshow( plt_mlp.astype(np.uint8) )\n",
    "ax30.axis('off')\n",
    "ax30.set_title('mlp', fontsize=40)\n",
    "ax40.imshow( plt_maskrcnn.astype(np.uint8) )\n",
    "ax40.axis('off')\n",
    "ax40.set_title('maskrcnn', fontsize=40)\n",
    "\n",
    "ax01.imshow( image )\n",
    "ax01.axis('off')\n",
    "ax01.set_title('image', fontsize=40)\n",
    "ax11.imshow( masked_image_gt.astype(np.uint8) )\n",
    "ax11.axis('off')\n",
    "ax11.set_title('ground truth', fontsize=40)\n",
    "ax21.imshow( masked_image_fcn.astype(np.uint8) )\n",
    "ax21.axis('off')\n",
    "ax21.set_title('fcn', fontsize=40)\n",
    "ax31.imshow( masked_image_mlp.astype(np.uint8) )\n",
    "ax31.axis('off')\n",
    "ax31.set_title('mlp', fontsize=40)\n",
    "ax41.imshow( masked_image_maskrcnn.astype(np.uint8) )\n",
    "ax41.axis('off')\n",
    "ax41.set_title('maskrcnn', fontsize=40)\n",
    "plt.tight_layout()\n",
    "plt.savefig(im_name.split('.')[0]+'comparison.eps', format='eps', dpi=200)"
   ]
  },
  {
   "cell_type": "code",
   "execution_count": null,
   "metadata": {
    "collapsed": true
   },
   "outputs": [],
   "source": [
    "#f, (ax1, ax2, ax3, ax4) = plt.subplots(4, 1, sharey=True,figsize=(10,50))\n",
    "#ax1.imshow( masked_image_gt.astype(np.uint8) )\n",
    "#ax1.axis('off')\n",
    "#ax1.set_title('ground truth', fontsize=20)\n",
    "#ax2.imshow( masked_image_fcn.astype(np.uint8) )\n",
    "#ax2.axis('off')\n",
    "#ax2.set_title('fcn', fontsize=20)\n",
    "#ax3.imshow( masked_image_mlp.astype(np.uint8) )\n",
    "#ax3.axis('off')\n",
    "#ax3.set_title('mlp', fontsize=20)\n",
    "#ax4.imshow( masked_image_maskrcnn.astype(np.uint8) )\n",
    "#ax4.axis('off')\n",
    "#ax4.set_title('maskrcnn', fontsize=20)\n",
    "#plt.savefig('colorscomparison.eps', format='eps', dpi=200)"
   ]
  },
  {
   "cell_type": "code",
   "execution_count": null,
   "metadata": {
    "collapsed": true
   },
   "outputs": [],
   "source": [
    "plt.imshow(image)"
   ]
  },
  {
   "cell_type": "code",
   "execution_count": null,
   "metadata": {
    "collapsed": true
   },
   "outputs": [],
   "source": []
  },
  {
   "cell_type": "code",
   "execution_count": null,
   "metadata": {
    "collapsed": true
   },
   "outputs": [],
   "source": []
  },
  {
   "cell_type": "code",
   "execution_count": null,
   "metadata": {
    "collapsed": true
   },
   "outputs": [],
   "source": []
  }
 ],
 "metadata": {
  "kernelspec": {
   "display_name": "Python [conda env:objreco_namr]",
   "language": "python",
   "name": "conda-env-objreco_namr-py"
  },
  "language_info": {
   "codemirror_mode": {
    "name": "ipython",
    "version": 3
   },
   "file_extension": ".py",
   "mimetype": "text/x-python",
   "name": "python",
   "nbconvert_exporter": "python",
   "pygments_lexer": "ipython3",
   "version": "3.6.3"
  }
 },
 "nbformat": 4,
 "nbformat_minor": 2
}
